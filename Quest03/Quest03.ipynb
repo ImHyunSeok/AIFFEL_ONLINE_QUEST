{
  "nbformat": 4,
  "nbformat_minor": 0,
  "metadata": {
    "colab": {
      "provenance": [],
      "include_colab_link": true
    },
    "kernelspec": {
      "name": "python3",
      "display_name": "Python 3"
    },
    "language_info": {
      "name": "python"
    }
  },
  "cells": [
    {
      "cell_type": "markdown",
      "metadata": {
        "id": "view-in-github",
        "colab_type": "text"
      },
      "source": [
        "<a href=\"https://colab.research.google.com/github/753x/AIFFEL_ONLINE_QUEST/blob/master/Quest03/Quest03.ipynb\" target=\"_parent\"><img src=\"https://colab.research.google.com/assets/colab-badge.svg\" alt=\"Open In Colab\"/></a>"
      ]
    },
    {
      "cell_type": "code",
      "execution_count": 6,
      "metadata": {
        "id": "LNABj5L9UzdV",
        "colab": {
          "base_uri": "https://localhost:8080/"
        },
        "outputId": "2e4b309a-52e5-436a-92d9-d471dcbcf958"
      },
      "outputs": [
        {
          "output_type": "stream",
          "name": "stdout",
          "text": [
            "[('the tesseract', 30), ('on the', 25), ('in the', 24), ('i dont', 22), ('you know', 21)]\n"
          ]
        }
      ],
      "source": [
        "# 06TheAvengers.txt 파일을 사용한다.\n",
        "import re\n",
        "from collections import Counter\n",
        "# re 모듈과 collections 모듈을 가져옴.\n",
        "\n",
        "file = open(\"/content/sample_data/Avengers.txt\", \"r\")\n",
        "\n",
        "contents = file.read()\n",
        "file.close()\n",
        "\n",
        "\n",
        "def process_text(text):\n",
        "  text = re.sub(r'[^\\w\\s]',' ',text)      # 정규 표현식을 사용하여 특수 문자를 제거함.\n",
        "  text = text.lower()                    # lower()를 이용해서 대문자를 소문자로 변환함\n",
        "  return text\n",
        "\n",
        "# 제러레이터 생성해서 단어 자른다\n",
        "def gen_ngram(text, n):\n",
        "  words = text.split()                   # 텍스트를 단어로 자름\n",
        "  ngrams = []\n",
        "  for i in range(len(words) - n + 1):    # 각 단어를 포함하는 n-gram 생성\n",
        "    ngram = ' '.join(words[i:i+n])       # 공백을 기준으로 단어를 결합하여 n-gram을 생성함\n",
        "    ngrams.append(ngram)                 # 생성된 n-gram을 리스트에 추가\n",
        "  return ngrams\n",
        "\n",
        "\n",
        "\n",
        "processed_text = process_text(contents) # 파일 가져오기\n",
        "\n",
        "ngrams = gen_ngram(processed_text, 2)   # 2-gram 생성\n",
        "\n",
        "ngrams_count = Counter(ngrams)          # 2-gram의 빈도 계산\n",
        "\n",
        "most_ngram = ngrams_count.most_common(5)  # 가장 빈도가 높은 5개의 2-gram을 반환\n",
        "\n",
        "print(most_ngram)\n",
        "\n",
        "\n",
        "\n",
        "\n"
      ]
    }
  ]
}
