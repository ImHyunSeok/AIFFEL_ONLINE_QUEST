{
  "nbformat": 4,
  "nbformat_minor": 0,
  "metadata": {
    "colab": {
      "provenance": [],
      "include_colab_link": true
    },
    "kernelspec": {
      "name": "python3",
      "display_name": "Python 3"
    },
    "language_info": {
      "name": "python"
    }
  },
  "cells": [
    {
      "cell_type": "markdown",
      "metadata": {
        "id": "view-in-github",
        "colab_type": "text"
      },
      "source": [
        "<a href=\"https://colab.research.google.com/github/ImHyunSeok/AIFFEL_ONLINE_QUEST/blob/master/quest04/quest04.ipynb\" target=\"_parent\"><img src=\"https://colab.research.google.com/assets/colab-badge.svg\" alt=\"Open In Colab\"/></a>"
      ]
    },
    {
      "cell_type": "code",
      "execution_count": 10,
      "metadata": {
        "id": "IicrZ53Tit3S",
        "colab": {
          "base_uri": "https://localhost:8080/"
        },
        "outputId": "c270f291-9fb7-4b77-de2f-32800e54f128"
      },
      "outputs": [
        {
          "output_type": "stream",
          "name": "stdout",
          "text": [
            "Using Comprehension:\n",
            "Nemo is swimming at 3 m/s\n",
            "Dory is swimming at 5 m/s\n",
            "Using Generator:\n",
            "Nemo is swimming at 3 m/s\n",
            "Dory is swimming at 5 m/s\n"
          ]
        }
      ],
      "source": [
        "import time as t # sleep()함수를 쓰기 위해 time 모듈을 불러옴\n",
        "\n",
        "\n",
        "def fish_com(fish_list): #컴프리핸션 사용 함수 작성\n",
        "   return [f\"{fish['이름']} is swimming at {fish['Speed']} m/s\" for fish in fish_list]\n",
        "\n",
        "def fish_gen(fish_list):#제너레이터 사용 함수 작성\n",
        "    for fish in fish_list:\n",
        "      name = fish[\"이름\"]\n",
        "      speed = fish[\"Speed\"]\n",
        "      yield f\"{name} is swimming at {speed} m/s\"\n",
        "      t.sleep(2) #2초 지연시간 줌\n",
        "\n",
        "fish_list = [\n",
        "    {\"이름\":\"Nemo\", \"Speed\":3 },\n",
        "    {\"이름\":\"Dory\", \"Speed\":5}\n",
        "] #fish 딕셔너리 생성\n",
        "\n",
        "fish_generate = fish_gen(fish_list) #제너레이터 생성\n",
        "\n",
        "\n",
        "print(\"Using Comprehension:\")\n",
        "fish_move = fish_com(fish_list) #반복문 사용 위해 fish_move에 할당\n",
        "for movement2 in fish_move:\n",
        "  print(movement2)\n",
        "  t.sleep(2) #출력값을 2초 간격으로 출력되게 만듦\n",
        "\n",
        "print(\"Using Generator:\") #제너레이터 사용하여 반복문을 돌려 2초간격으로 출력되게 함\n",
        "for fish_movement in fish_generate:\n",
        "  print(fish_movement)\n",
        "\n",
        "\n",
        "\n",
        "\n",
        "\n",
        "\n"
      ]
    },
    {
      "cell_type": "code",
      "source": [],
      "metadata": {
        "id": "e8Rs5PKcCa2j"
      },
      "execution_count": null,
      "outputs": []
    }
  ]
}